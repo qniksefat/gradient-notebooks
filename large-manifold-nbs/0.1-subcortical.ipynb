{
 "cells": [
  {
   "cell_type": "code",
   "execution_count": 2,
   "outputs": [],
   "source": [
    "import warnings\n",
    "\n",
    "warnings.filterwarnings('ignore')"
   ],
   "metadata": {
    "collapsed": false,
    "pycharm": {
     "name": "#%%\n"
    }
   }
  },
  {
   "cell_type": "code",
   "execution_count": 100,
   "outputs": [],
   "source": [
    "import pandas as pd\n",
    "\n",
    "r_names = pd.read_csv('data/ts/ts_1_baseline.csv').columns\n",
    "r_names = pd.Series(r_names)\n",
    "r_names = r_names.rename('region').reset_index()"
   ],
   "metadata": {
    "collapsed": false,
    "pycharm": {
     "name": "#%%\n"
    }
   }
  },
  {
   "cell_type": "code",
   "execution_count": 101,
   "outputs": [
    {
     "data": {
      "text/plain": "region\n7Networks_LH_Vis_1       0\n7Networks_LH_Vis_2       1\n7Networks_LH_Vis_3       2\n7Networks_LH_Vis_4       3\n7Networks_LH_Vis_5       4\n                      ... \nRight Putamen         1007\nRight Pallidum        1008\nRight Hippocampus     1009\nRight Amygdala        1010\nRight Accumbens       1011\nName: index, Length: 1012, dtype: int64"
     },
     "execution_count": 101,
     "metadata": {},
     "output_type": "execute_result"
    }
   ],
   "source": [
    "r_names = r_names.set_index('region')['index']\n",
    "r_names"
   ],
   "metadata": {
    "collapsed": false,
    "pycharm": {
     "name": "#%%\n"
    }
   }
  },
  {
   "cell_type": "code",
   "execution_count": 99,
   "outputs": [],
   "source": [
    "subcortex_order = ['Left Accumbens',\n",
    "                     'Left Amygdala',\n",
    "                     'Left Caudate',\n",
    "                     'Left Hippocampus',\n",
    "                     'Left Pallidum',\n",
    "                     'Left Putamen',\n",
    "                     'Left Thalamus',\n",
    "                     # 'Left Ventricles',\n",
    "                     'Right Accumbens',\n",
    "                     'Right Amygdala',\n",
    "                     'Right Caudate',\n",
    "                     'Right Hippocampus',\n",
    "                     'Right Pallidum',\n",
    "                     'Right Putamen',\n",
    "                     'Right Thalamus',\n",
    "                     # 'Right Ventricles',\n",
    "                   ]\n",
    "\n",
    "# to reorder data regarding function input\n",
    "# array_name = data.loc[subcortex_order]\n",
    "# two values removed, ventricles must set False"
   ],
   "metadata": {
    "collapsed": false,
    "pycharm": {
     "name": "#%%\n"
    }
   }
  },
  {
   "cell_type": "code",
   "execution_count": null,
   "outputs": [],
   "source": [
    "# to finish the cell, you need to close the window that shows plot"
   ],
   "metadata": {
    "collapsed": false,
    "pycharm": {
     "name": "#%%\n"
    }
   }
  },
  {
   "cell_type": "code",
   "execution_count": null,
   "outputs": [],
   "source": [
    "# to save it, pass both screenshot and filename"
   ],
   "metadata": {
    "collapsed": false,
    "pycharm": {
     "name": "#%%\n"
    }
   }
  },
  {
   "cell_type": "code",
   "execution_count": 103,
   "outputs": [
    {
     "data": {
      "text/plain": "'/Users/qasem/PycharmProjects/large-manifold-nbs/asd.png'"
     },
     "execution_count": 103,
     "metadata": {},
     "output_type": "execute_result"
    }
   ],
   "source": [
    "from enigmatoolbox.plotting import plot_subcortical\n",
    "\n",
    "plot_subcortical(r_names.loc[subcortex_order], ventricles=False,\n",
    "                 size=(800, 400), cmap='RdBu_r', color_bar=True,\n",
    "                 # color_range=(-0.5, 0.5),\n",
    "                 screenshot=True, filename='test.png'\n",
    "                 )"
   ],
   "metadata": {
    "collapsed": false,
    "pycharm": {
     "name": "#%%\n"
    }
   }
  },
  {
   "cell_type": "markdown",
   "source": [
    "sample:\n",
    "![ecc striatum](data/sample-subcortex.png)"
   ],
   "metadata": {
    "collapsed": false,
    "pycharm": {
     "name": "#%% md\n"
    }
   }
  }
 ],
 "metadata": {
  "kernelspec": {
   "display_name": "Python 3",
   "language": "python",
   "name": "python3"
  },
  "language_info": {
   "codemirror_mode": {
    "name": "ipython",
    "version": 2
   },
   "file_extension": ".py",
   "mimetype": "text/x-python",
   "name": "python",
   "nbconvert_exporter": "python",
   "pygments_lexer": "ipython2",
   "version": "2.7.6"
  }
 },
 "nbformat": 4,
 "nbformat_minor": 0
}