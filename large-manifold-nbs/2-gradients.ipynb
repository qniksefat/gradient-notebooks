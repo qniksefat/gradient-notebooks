{
 "cells": [
  {
   "cell_type": "code",
   "execution_count": null,
   "metadata": {
    "pycharm": {
     "name": "#%%\n"
    }
   },
   "outputs": [],
   "source": [
    "import warnings\n",
    "warnings.filterwarnings('ignore')"
   ]
  },
  {
   "cell_type": "code",
   "execution_count": null,
   "metadata": {
    "pycharm": {
     "name": "#%%\n"
    }
   },
   "outputs": [],
   "source": [
    "# universal color map for Yeo's networks"
   ]
  },
  {
   "cell_type": "code",
   "execution_count": null,
   "metadata": {
    "pycharm": {
     "name": "#%%\n"
    }
   },
   "outputs": [],
   "source": [
    "import numpy as np\n",
    "import seaborn"
   ]
  },
  {
   "cell_type": "code",
   "execution_count": null,
   "metadata": {
    "pycharm": {
     "name": "#%%\n"
    }
   },
   "outputs": [],
   "source": [
    "# load cmap17 values from txt file\n",
    "def yeo_cmap(as_palette=False, networks=7):\n",
    "    \"\"\"load cmap7 or cmap17 from txt file in directory\"\"\"\n",
    "    assert networks in (7, 17)\n",
    "    cmap = {}\n",
    "    with open('data/' + f'_cmap{networks}.txt', 'r') as f:\n",
    "        for line in f.readlines():\n",
    "            k, r, g, b = line.split()\n",
    "            cmap[k] = (int(r), int(g), int(b))\n",
    "    cmap = {k: np.array(v) / 255 for k, v in cmap.items()}\n",
    "\n",
    "    if as_palette:  return seaborn.color_palette(cmap.values())\n",
    "    else:   return cmap"
   ]
  },
  {
   "cell_type": "code",
   "execution_count": null,
   "metadata": {
    "pycharm": {
     "name": "#%%\n"
    }
   },
   "outputs": [],
   "source": [
    "seaborn.set(style='white', context='notebook',rc={'figure.figsize': (7, 5)})"
   ]
  },
  {
   "cell_type": "code",
   "execution_count": null,
   "metadata": {
    "pycharm": {
     "name": "#%%\n"
    }
   },
   "outputs": [],
   "source": [
    "cmap8 = yeo_cmap(as_palette=True)\n",
    "cmap8"
   ]
  },
  {
   "cell_type": "markdown",
   "metadata": {
    "pycharm": {
     "name": "#%% md\n"
    }
   },
   "source": [
    "# gradients\n",
    "large-scale manifold"
   ]
  },
  {
   "cell_type": "code",
   "execution_count": null,
   "metadata": {
    "pycharm": {
     "name": "#%%\n"
    }
   },
   "outputs": [],
   "source": [
    "import pandas as pd"
   ]
  },
  {
   "cell_type": "code",
   "execution_count": null,
   "metadata": {
    "pycharm": {
     "name": "#%%\n"
    }
   },
   "outputs": [],
   "source": [
    "approach = 'pca'"
   ]
  },
  {
   "cell_type": "code",
   "execution_count": null,
   "metadata": {
    "pycharm": {
     "name": "#%%\n"
    }
   },
   "outputs": [],
   "source": [
    "RAND = 0    # random state"
   ]
  },
  {
   "cell_type": "markdown",
   "metadata": {
    "pycharm": {
     "name": "#%% md\n"
    }
   },
   "source": [
    "if you don't apply cosine kernel while making affinity mat, you get way skewed gradient values."
   ]
  },
  {
   "cell_type": "code",
   "execution_count": null,
   "metadata": {
    "pycharm": {
     "name": "#%%\n"
    }
   },
   "outputs": [],
   "source": [
    "# this is computed based on `baseline`\n",
    "ref_cmat = pd.read_csv('data/cmat/ref_mean.csv').to_numpy()"
   ]
  },
  {
   "cell_type": "code",
   "execution_count": null,
   "metadata": {
    "pycharm": {
     "name": "#%%\n"
    }
   },
   "outputs": [],
   "source": [
    "from brainspace.gradient import GradientMaps"
   ]
  },
  {
   "cell_type": "code",
   "execution_count": null,
   "metadata": {
    "pycharm": {
     "name": "#%%\n"
    }
   },
   "outputs": [],
   "source": [
    "import seaborn\n",
    "from matplotlib import pyplot as plt"
   ]
  },
  {
   "cell_type": "code",
   "execution_count": null,
   "metadata": {
    "pycharm": {
     "name": "#%%\n"
    }
   },
   "outputs": [],
   "source": [
    "gref = GradientMaps(random_state=RAND, approach=approach, kernel='cosine')\n",
    "# kernel needed for centered mats\n",
    "gref.fit(ref_cmat)\n",
    "seaborn.jointplot(data=pd.DataFrame(gref.gradients_), x=0, y=1)\n",
    "plt.show()"
   ]
  },
  {
   "cell_type": "code",
   "execution_count": null,
   "metadata": {
    "pycharm": {
     "name": "#%%\n"
    }
   },
   "outputs": [],
   "source": [
    "def cmat_cnt(subject, epoch): return pd.read_csv('data/cmat/cnt/cnt_'+str(subject)+'_'+epoch+'.csv').to_numpy()"
   ]
  },
  {
   "cell_type": "code",
   "execution_count": null,
   "metadata": {
    "pycharm": {
     "name": "#%%\n"
    }
   },
   "outputs": [],
   "source": [
    "EPOCHS = ['baseline', 'early', 'late']\n",
    "EPOCH_REF = 'baseline'"
   ]
  },
  {
   "cell_type": "code",
   "execution_count": null,
   "metadata": {
    "pycharm": {
     "name": "#%%\n"
    }
   },
   "outputs": [],
   "source": [
    "subjects = pd.read_csv('data/subjects.csv')"
   ]
  },
  {
   "cell_type": "code",
   "execution_count": null,
   "metadata": {
    "pycharm": {
     "name": "#%%\n"
    }
   },
   "outputs": [],
   "source": [
    "# g = GradientMaps(random_state=RAND, approach=approach, alignment='procrustes', kernel='cosine')\n",
    "# g.fit([cmat_cnt(s, e) for e in EPOCHS for s in subjects.int_id], reference=gref.gradients_)\n",
    "# np.stack(g.aligned_).shape"
   ]
  },
  {
   "cell_type": "code",
   "execution_count": null,
   "metadata": {
    "pycharm": {
     "name": "#%%\n"
    }
   },
   "outputs": [],
   "source": [
    "# plt.hist(g.aligned_[0][:, 0], bins=50) # grad1\n",
    "# plt.show()\n",
    "# plt.hist(g.aligned_[0][:, 1], bins=50) # grad2\n",
    "# plt.show()"
   ]
  },
  {
   "cell_type": "markdown",
   "metadata": {
    "pycharm": {
     "name": "#%% md\n"
    }
   },
   "source": [
    "# make dataframe"
   ]
  },
  {
   "cell_type": "code",
   "execution_count": null,
   "metadata": {
    "pycharm": {
     "name": "#%%\n"
    }
   },
   "outputs": [],
   "source": [
    "# important: this is how the g.aligned_ list is organized\n",
    "S = [1,2]\n",
    "l = [(s, e) for e in EPOCHS for s in S]\n",
    "print(l)\n",
    "l[EPOCHS.index('late') * len(S) + S.index(2)]   # selects element for s=2, e='late'"
   ]
  },
  {
   "cell_type": "code",
   "execution_count": null,
   "metadata": {
    "pycharm": {
     "name": "#%%\n"
    }
   },
   "outputs": [],
   "source": [
    "r = pd.read_csv('data/regions_sorted.csv')"
   ]
  },
  {
   "cell_type": "code",
   "execution_count": null,
   "metadata": {
    "pycharm": {
     "name": "#%%\n"
    }
   },
   "outputs": [],
   "source": [
    "S = subjects.int_id.to_list()\n",
    "\n",
    "# df = pd.concat([pd.DataFrame({'subject': s, 'epoch': e,\n",
    "#                               'region': r['region'], '7net': r['7net'], '17net': r['17net'],\n",
    "#                               'g1': g.aligned_[EPOCHS.index(e) * len(S) + S.index(s)][:, 0],\n",
    "#                               'g2': g.aligned_[EPOCHS.index(e) * len(S) + S.index(s)][:, 1],\n",
    "#                               'g3': g.aligned_[EPOCHS.index(e) * len(S) + S.index(s)][:, 2], })\n",
    "#                 for e in EPOCHS for s in S], axis=0).reset_index(drop=True)"
   ]
  },
  {
   "cell_type": "code",
   "execution_count": null,
   "metadata": {
    "pycharm": {
     "name": "#%%\n"
    }
   },
   "outputs": [],
   "source": [
    "# df"
   ]
  },
  {
   "cell_type": "code",
   "execution_count": null,
   "metadata": {
    "pycharm": {
     "name": "#%%\n"
    }
   },
   "outputs": [],
   "source": [
    "# make use of palette"
   ]
  },
  {
   "cell_type": "code",
   "execution_count": null,
   "metadata": {
    "pycharm": {
     "name": "#%%\n"
    }
   },
   "outputs": [],
   "source": [
    "names7nets = r['7net'].unique().tolist()"
   ]
  },
  {
   "cell_type": "code",
   "execution_count": null,
   "metadata": {
    "pycharm": {
     "name": "#%%\n"
    }
   },
   "outputs": [],
   "source": [
    "# seaborn.displot(df.sample(10_000), x='g1', hue='7net', kind='kde', fill=True,\n",
    "#                 palette=cmap8,\n",
    "#                 hue_order=names7nets,\n",
    "#                 )\n",
    "# plt.show()\n",
    "# # plt.savefig(\"sample10_000.svg\", format=\"svg\")"
   ]
  },
  {
   "cell_type": "code",
   "execution_count": null,
   "metadata": {
    "pycharm": {
     "name": "#%%\n"
    }
   },
   "outputs": [],
   "source": [
    "# this is the 3d plot. it would mess up the notebook if run\n",
    "# fig = px.scatter_3d(df.sample(1000), x='g1', y='g2', z='g3', color='label', opacity=.4)\n",
    "# fig.update_traces(marker_size=3)\n",
    "# fig.show()"
   ]
  },
  {
   "cell_type": "markdown",
   "metadata": {
    "pycharm": {
     "name": "#%% md\n"
    }
   },
   "source": [
    "## Eccentricity\n",
    "\n",
    "the Euclidean distance from the manifold center. 3D space.\n",
    "$Ecc = \\sqrt{\\sum_{\\substack{i=1}}^3 G_i^2}$"
   ]
  },
  {
   "cell_type": "code",
   "execution_count": null,
   "metadata": {
    "pycharm": {
     "name": "#%%\n"
    }
   },
   "outputs": [],
   "source": [
    "# df['ecc'] = df.apply(lambda r: np.sqrt(np.sum(g**2 for g in r[-3:])), axis=1)"
   ]
  },
  {
   "cell_type": "code",
   "execution_count": null,
   "metadata": {
    "pycharm": {
     "name": "#%%\n"
    }
   },
   "outputs": [],
   "source": [
    "# df.to_csv('data/gradients.csv', index=False)"
   ]
  },
  {
   "cell_type": "code",
   "execution_count": null,
   "metadata": {
    "pycharm": {
     "name": "#%%\n"
    }
   },
   "outputs": [],
   "source": [
    "df = pd.read_csv('data/gradients.csv')"
   ]
  },
  {
   "cell_type": "code",
   "execution_count": null,
   "metadata": {
    "pycharm": {
     "name": "#%%\n"
    }
   },
   "outputs": [],
   "source": [
    "df.head()"
   ]
  },
  {
   "cell_type": "markdown",
   "metadata": {
    "pycharm": {
     "name": "#%% md\n"
    }
   },
   "source": [
    "average"
   ]
  },
  {
   "cell_type": "code",
   "execution_count": null,
   "metadata": {
    "pycharm": {
     "name": "#%%\n"
    }
   },
   "outputs": [],
   "source": [
    "df_mean = df.groupby(['region', 'epoch', '7net', '17net']).agg('mean').drop('subject', axis=1).reset_index()\n",
    "df_mean.head()"
   ]
  },
  {
   "cell_type": "code",
   "execution_count": null,
   "metadata": {
    "pycharm": {
     "name": "#%%\n"
    }
   },
   "outputs": [],
   "source": [
    "# caution: `groupby` changes regions' ordering. This doesn't start with `LH_Vis`\n",
    "df_mean = df_mean.set_index('region').loc[pd.Series(r['region'])].reset_index()\n",
    "df_mean.head()"
   ]
  },
  {
   "cell_type": "code",
   "execution_count": null,
   "metadata": {
    "pycharm": {
     "name": "#%%\n"
    }
   },
   "outputs": [],
   "source": [
    "g1range = (-5,7)\n",
    "g2range = (-5,4)\n",
    "g3range = (-4.5,4)"
   ]
  },
  {
   "cell_type": "code",
   "execution_count": null,
   "metadata": {
    "pycharm": {
     "name": "#%%\n"
    }
   },
   "outputs": [],
   "source": [
    "seaborn.displot(df_mean[df_mean.epoch=='late'], x='g1', hue='7net', kind='kde', fill=True,\n",
    "                palette=cmap8,hue_order=names7nets,\n",
    "                )\n",
    "plt.xlim(*g1range)\n",
    "plt.savefig(\"g1 late.svg\", format=\"svg\")"
   ]
  },
  {
   "cell_type": "markdown",
   "metadata": {
    "pycharm": {
     "name": "#%% md\n"
    }
   },
   "source": [
    "# brain plot"
   ]
  },
  {
   "cell_type": "markdown",
   "metadata": {
    "pycharm": {
     "name": "#%% md\n"
    }
   },
   "source": [
    "## cortex"
   ]
  },
  {
   "cell_type": "code",
   "execution_count": null,
   "metadata": {
    "pycharm": {
     "name": "#%%\n"
    }
   },
   "outputs": [],
   "source": [
    "import nibabel\n",
    "from brainspace.datasets import load_conte69\n",
    "from brainspace.utils.parcellation import map_to_labels\n",
    "from surfplot import Plot"
   ]
  },
  {
   "cell_type": "code",
   "execution_count": null,
   "metadata": {
    "pycharm": {
     "name": "#%%\n"
    }
   },
   "outputs": [],
   "source": [
    "fname = '/Users/qasem/PycharmProjects/gradients-rl-task/data/Schaefer2018_1000Parcels_7Networks_order.dlabel.nii'\n",
    "l_hemi, r_hemi = load_conte69()\n",
    "vertices = nibabel.load(fname).get_fdata()[0]"
   ]
  },
  {
   "cell_type": "code",
   "execution_count": null,
   "metadata": {
    "pycharm": {
     "name": "#%%\n"
    }
   },
   "outputs": [],
   "source": [
    "data = df_mean[df_mean.epoch=='baseline'].reset_index()['g1']\n",
    "data = map_to_labels(data, vertices, mask=(vertices != 0))\n",
    "p = Plot(surf_lh=l_hemi, surf_rh=r_hemi, layout='row', size=(1600, 300))\n",
    "p.add_layer(data, cbar=True, cmap='bwr', color_range=(-3.7, 3.7))\n",
    "figure = p.build()\n",
    "figure.savefig('test.png', dpi=300)"
   ]
  },
  {
   "cell_type": "code",
   "execution_count": null,
   "metadata": {
    "pycharm": {
     "name": "#%%\n"
    }
   },
   "outputs": [],
   "source": [
    "df_mean.loc[df_mean.epoch=='baseline', 'g1'].hist(bins=100)"
   ]
  },
  {
   "cell_type": "code",
   "execution_count": null,
   "metadata": {
    "pycharm": {
     "name": "#%%\n"
    }
   },
   "outputs": [],
   "source": [
    "data = df_mean[df_mean.epoch=='baseline'].reset_index()['g2']\n",
    "data = map_to_labels(data, vertices, mask=(vertices != 0))\n",
    "p = Plot(surf_lh=l_hemi, surf_rh=r_hemi, layout='row', size=(1600, 300))\n",
    "p.add_layer(data, cbar=True, cmap='bwr', color_range=(-3.7, 3.7))\n",
    "figure = p.build()\n",
    "figure.savefig('test.png', dpi=300)"
   ]
  },
  {
   "cell_type": "code",
   "execution_count": null,
   "metadata": {
    "pycharm": {
     "name": "#%%\n"
    }
   },
   "outputs": [],
   "source": [
    "data = df_mean[df_mean.epoch=='baseline'].reset_index()['g3']\n",
    "data = map_to_labels(data, vertices, mask=(vertices != 0))\n",
    "p = Plot(surf_lh=l_hemi, surf_rh=r_hemi, layout='row', size=(1600, 300))\n",
    "p.add_layer(data, cbar=True, cmap='bwr', color_range=(-3.7, 3.7))\n",
    "figure = p.build()\n",
    "figure.savefig('test.png', dpi=300)"
   ]
  },
  {
   "cell_type": "markdown",
   "metadata": {
    "pycharm": {
     "name": "#%% md\n"
    }
   },
   "source": [
    "### eccentricity"
   ]
  },
  {
   "cell_type": "code",
   "execution_count": null,
   "metadata": {
    "pycharm": {
     "name": "#%%\n"
    }
   },
   "outputs": [],
   "source": [
    "data = df_mean[df_mean.epoch=='baseline'].reset_index()['ecc']\n",
    "data = map_to_labels(data, vertices, mask=(vertices != 0))\n",
    "p = Plot(surf_lh=l_hemi, surf_rh=r_hemi, layout='row', size=(1600, 300))\n",
    "p.add_layer(data, cbar=True,\n",
    "            cmap='viridis',color_range=(1,5))\n",
    "figure = p.build()\n",
    "figure.savefig('test.png', dpi=300)"
   ]
  },
  {
   "cell_type": "markdown",
   "metadata": {
    "pycharm": {
     "name": "#%% md\n"
    }
   },
   "source": [
    "## subcortex\n",
    "distribution of gradient values in Striatum\n",
    "\n",
    "![ecc striatum](data/sample-subcortex.png)"
   ]
  },
  {
   "cell_type": "markdown",
   "metadata": {
    "pycharm": {
     "name": "#%% md\n"
    }
   },
   "source": [
    "PC 1"
   ]
  },
  {
   "cell_type": "code",
   "execution_count": null,
   "metadata": {
    "pycharm": {
     "name": "#%%\n"
    }
   },
   "outputs": [],
   "source": [
    "df_mean.set_index(['epoch', 'region']).loc['baseline'][-14:]['g1'].hist()"
   ]
  },
  {
   "cell_type": "markdown",
   "metadata": {
    "pycharm": {
     "name": "#%% md\n"
    }
   },
   "source": [
    "PC 2"
   ]
  },
  {
   "cell_type": "code",
   "execution_count": null,
   "metadata": {
    "pycharm": {
     "name": "#%%\n"
    }
   },
   "outputs": [],
   "source": [
    "df_mean.set_index(['epoch', 'region']).loc['baseline'][-14:]['g2'].hist()"
   ]
  },
  {
   "cell_type": "markdown",
   "metadata": {
    "pycharm": {
     "name": "#%% md\n"
    }
   },
   "source": [
    "PC 3"
   ]
  },
  {
   "cell_type": "code",
   "execution_count": null,
   "metadata": {
    "pycharm": {
     "name": "#%%\n"
    }
   },
   "outputs": [],
   "source": [
    "df_mean.set_index(['epoch', 'region']).loc['baseline'][-14:]['g3'].hist()"
   ]
  },
  {
   "cell_type": "markdown",
   "metadata": {
    "pycharm": {
     "name": "#%% md\n"
    }
   },
   "source": [
    "### setup plotting"
   ]
  },
  {
   "cell_type": "code",
   "execution_count": null,
   "metadata": {
    "pycharm": {
     "name": "#%%\n"
    }
   },
   "outputs": [],
   "source": [
    "subcortex_order = ['Left Accumbens',\n",
    "                     'Left Amygdala',\n",
    "                     'Left Caudate',\n",
    "                     'Left Hippocampus',\n",
    "                     'Left Pallidum',\n",
    "                     'Left Putamen',\n",
    "                     'Left Thalamus',\n",
    "                     # 'Left Ventricles',\n",
    "                     'Right Accumbens',\n",
    "                     'Right Amygdala',\n",
    "                     'Right Caudate',\n",
    "                     'Right Hippocampus',\n",
    "                     'Right Pallidum',\n",
    "                     'Right Putamen',\n",
    "                     'Right Thalamus',\n",
    "                     # 'Right Ventricles',\n",
    "                   ]\n",
    "\n",
    "# to reorder data regarding function input\n",
    "# array_name = data.loc[subcortex_order]\n",
    "# two values removed, ventricles must set False"
   ]
  },
  {
   "cell_type": "code",
   "execution_count": null,
   "metadata": {
    "pycharm": {
     "name": "#%%\n"
    }
   },
   "outputs": [],
   "source": [
    "data = df_mean.set_index(['epoch', 'region']).loc['baseline'].loc[subcortex_order]['g1']"
   ]
  },
  {
   "cell_type": "code",
   "execution_count": null,
   "metadata": {
    "pycharm": {
     "name": "#%%\n"
    }
   },
   "outputs": [],
   "source": [
    "data"
   ]
  },
  {
   "cell_type": "code",
   "execution_count": null,
   "metadata": {
    "pycharm": {
     "name": "#%%\n"
    }
   },
   "outputs": [],
   "source": [
    "from enigmatoolbox.plotting import plot_subcortical\n",
    "\n",
    "plot_subcortical(data, ventricles=False,\n",
    "                 size=(800, 400), cmap='bwr', color_bar=True, color_range=(-1, 1),\n",
    "                 screenshot=True, filename='g1.png'\n",
    "                 )"
   ]
  },
  {
   "cell_type": "code",
   "execution_count": null,
   "metadata": {
    "pycharm": {
     "name": "#%%\n"
    }
   },
   "outputs": [],
   "source": [
    "data = df_mean.set_index(['epoch', 'region']).loc['baseline'].loc[subcortex_order]['g2']\n",
    "\n",
    "plot_subcortical(data, ventricles=False,\n",
    "                 size=(800, 400), cmap='bwr', color_bar=True, color_range=(-1, 1),\n",
    "                 screenshot=True, filename='g2.png'\n",
    "                 )"
   ]
  },
  {
   "cell_type": "code",
   "execution_count": null,
   "metadata": {
    "pycharm": {
     "name": "#%%\n"
    }
   },
   "outputs": [],
   "source": [
    "data = df_mean.set_index(['epoch', 'region']).loc['baseline'].loc[subcortex_order]['g3']\n",
    "\n",
    "plot_subcortical(data, ventricles=False,\n",
    "                 size=(800, 400), cmap='bwr', color_bar=True, color_range=(-1, 1),\n",
    "                 screenshot=True, filename='g3.png'\n",
    "                 )"
   ]
  },
  {
   "cell_type": "markdown",
   "metadata": {
    "pycharm": {
     "name": "#%% md\n"
    }
   },
   "source": [
    "### eccentricity"
   ]
  },
  {
   "cell_type": "code",
   "execution_count": null,
   "metadata": {
    "pycharm": {
     "name": "#%%\n"
    }
   },
   "outputs": [],
   "source": [
    "ecc_color_range = (1,6)    # (1, 1.5)"
   ]
  },
  {
   "cell_type": "code",
   "execution_count": null,
   "metadata": {
    "pycharm": {
     "name": "#%%\n"
    }
   },
   "outputs": [],
   "source": [
    "data = df_mean.set_index(['epoch', 'region']).loc['baseline'].loc[subcortex_order]['ecc']\n",
    "\n",
    "plot_subcortical(data, ventricles=False,\n",
    "                 size=(800, 400), cmap='viridis', color_bar=True, color_range=ecc_color_range,\n",
    "                 screenshot=True, filename='ecc.png'\n",
    "                 )"
   ]
  },
  {
   "cell_type": "markdown",
   "metadata": {
    "pycharm": {
     "name": "#%% md\n"
    }
   },
   "source": [
    "# appendix scatter plots"
   ]
  },
  {
   "cell_type": "code",
   "execution_count": null,
   "metadata": {
    "pycharm": {
     "name": "#%%\n"
    }
   },
   "outputs": [],
   "source": [
    "seaborn.jointplot(data=df_mean,\n",
    "                  x='g1', y='g2',\n",
    "                  xlim=g1range, ylim=g2range,\n",
    "                  hue='7net',\n",
    "                  palette=cmap8,hue_order=names7nets,\n",
    "                  legend=False,\n",
    "                       alpha=.5,\n",
    "                  )\n",
    "plt.savefig(\"g1g2.svg\", format=\"svg\")"
   ]
  },
  {
   "cell_type": "code",
   "execution_count": null,
   "metadata": {
    "pycharm": {
     "name": "#%%\n"
    }
   },
   "outputs": [],
   "source": [
    "seaborn.jointplot(data=df_mean,\n",
    "                  x='g1', y='g3',\n",
    "                  xlim=g1range, ylim=g3range,\n",
    "                  hue='7net',\n",
    "                  palette=cmap8,hue_order=names7nets,\n",
    "                  legend=False,\n",
    "                       alpha=.5,\n",
    "                  )\n",
    "plt.savefig(\"g1g3.svg\", format=\"svg\")"
   ]
  },
  {
   "cell_type": "code",
   "execution_count": null,
   "metadata": {
    "pycharm": {
     "name": "#%%\n"
    }
   },
   "outputs": [],
   "source": [
    "seaborn.jointplot(data=df_mean,\n",
    "                  x='g3', y='g2',\n",
    "                  xlim=g3range,\n",
    "                  ylim=g2range,\n",
    "                  hue='7net',\n",
    "                  palette=cmap8,hue_order=names7nets,\n",
    "                  legend=False, alpha=.5,\n",
    "                  )\n",
    "plt.savefig(\"g3g2.svg\", format=\"svg\")"
   ]
  },
  {
   "cell_type": "markdown",
   "metadata": {
    "pycharm": {
     "name": "#%% md\n"
    }
   },
   "source": [
    "# swarm plot eccentricity of one region for all subjects"
   ]
  },
  {
   "cell_type": "code",
   "execution_count": null,
   "metadata": {
    "pycharm": {
     "name": "#%%\n"
    }
   },
   "outputs": [],
   "source": [
    "seaborn.set_theme(style=\"white\", rc={\"axes.facecolor\": (0, 0, 0, 0)})\n",
    "seaborn.set_context(\"paper\", font_scale=1.5, rc={\"lines.linewidth\": 2.5})\n",
    "# set y axis range\n",
    "seaborn.swarmplot(data=df[df.region=='7Networks_LH_Vis_1'], x='epoch', y='ecc')\n",
    "plt.ylim(0, 6)\n",
    "plt.show()"
   ]
  },
  {
   "cell_type": "code",
   "execution_count": null,
   "metadata": {
    "pycharm": {
     "name": "#%%\n"
    }
   },
   "outputs": [],
   "source": [
    "regions = ['LH_DorsAttn_FEF_5', 'RH_DorsAttn_FEF_6',            # FEF\n",
    "           'LH_Default_PFC_19', 'RH_Default_PFCdPFCm_3',        # PFC\n",
    "           'LH_Default_pCunPCC_32', 'RH_Default_pCunPCC_18',    # PCC\n",
    "           ]\n",
    "\n",
    "seaborn.set_theme(style=\"white\", rc={\"axes.facecolor\": (0, 0, 0, 0)})\n",
    "seaborn.set_context(\"paper\", font_scale=1.5, rc={\"lines.linewidth\": 2.5})\n",
    "fig, axes = plt.subplots(3, 2, figsize=(10, 10), sharex=True, sharey=True)\n",
    "\n",
    "for i, region in enumerate(regions):\n",
    "    seaborn.swarmplot(data=df[df.region=='7Networks_' + region], x='epoch', y='ecc',\n",
    "                      ax=axes[i//2, i%2], color='black', alpha=.5)\n",
    "    seaborn.pointplot(data=df[df.region=='7Networks_' + region], x='epoch', y='ecc', markers='X',\n",
    "                      color='black', ci=None, join=True, scale=.3, linestyles='dashed', ax=axes[i//2, i%2])\n",
    "\n",
    "    axes[i//2, i%2].set_ylim(0, 8)\n",
    "    axes[i//2, i%2].set_title(region)\n",
    "\n",
    "plt.tight_layout()\n",
    "# plt.savefig('ecc-swarm-regions.svg', format='svg')\n",
    "plt.show()"
   ]
  },
  {
   "cell_type": "markdown",
   "metadata": {
    "pycharm": {
     "name": "#%% md\n"
    }
   },
   "source": [
    "# variance cumulative explained"
   ]
  },
  {
   "cell_type": "code",
   "execution_count": null,
   "metadata": {
    "pycharm": {
     "name": "#%%\n"
    }
   },
   "outputs": [],
   "source": [
    "g = GradientMaps(random_state=RAND, approach=approach, alignment='procrustes', kernel='cosine')\n",
    "g.fit([cmat_cnt(s, e) for e in EPOCHS for s in subjects.int_id], reference=gref.gradients_)\n",
    "np.stack(g.aligned_).shape"
   ]
  },
  {
   "cell_type": "code",
   "execution_count": null,
   "metadata": {
    "pycharm": {
     "name": "#%%\n"
    }
   },
   "outputs": [],
   "source": [
    "len(g.lambdas_)"
   ]
  },
  {
   "cell_type": "code",
   "execution_count": null,
   "metadata": {
    "pycharm": {
     "name": "#%%\n"
    }
   },
   "outputs": [],
   "source": [
    "e, s = 'baseline', 23\n",
    "g.lambdas_[EPOCHS.index(e) * len(S) + S.index(s)]  # gives top 10 gradients"
   ]
  },
  {
   "cell_type": "code",
   "execution_count": null,
   "metadata": {
    "pycharm": {
     "name": "#%%\n"
    }
   },
   "outputs": [],
   "source": [
    "df_var = pd.concat([pd.DataFrame({'subject': s, 'epoch': e,\n",
    "                                  'eigenValue': g.lambdas_[EPOCHS.index(e) * len(S) + S.index(s)],\n",
    "                                  'g': list(range(1,11)), })\n",
    "                for e in EPOCHS for s in S], axis=0).reset_index(drop=True)\n",
    "df_var.head()"
   ]
  },
  {
   "cell_type": "code",
   "execution_count": null,
   "metadata": {
    "pycharm": {
     "name": "#%%\n"
    }
   },
   "outputs": [],
   "source": [
    "totalVariance = df_var.groupby(['subject', 'epoch'])['eigenValue'].sum().rename('totalVariance')"
   ]
  },
  {
   "cell_type": "code",
   "execution_count": null,
   "metadata": {
    "pycharm": {
     "name": "#%%\n"
    }
   },
   "outputs": [],
   "source": [
    "totalVariance"
   ]
  },
  {
   "cell_type": "code",
   "execution_count": null,
   "metadata": {
    "pycharm": {
     "name": "#%%\n"
    }
   },
   "outputs": [],
   "source": [
    "df_var.set_index(['subject', 'epoch'], inplace=True)"
   ]
  },
  {
   "cell_type": "code",
   "execution_count": null,
   "metadata": {
    "pycharm": {
     "name": "#%%\n"
    }
   },
   "outputs": [],
   "source": [
    "df_var = df_var.join(totalVariance)"
   ]
  },
  {
   "cell_type": "code",
   "execution_count": null,
   "metadata": {
    "pycharm": {
     "name": "#%%\n"
    }
   },
   "outputs": [],
   "source": [
    "df_var['varianceExplained'] = df_var['eigenValue'] / df_var['totalVariance']"
   ]
  },
  {
   "cell_type": "code",
   "execution_count": null,
   "metadata": {
    "pycharm": {
     "name": "#%%\n"
    }
   },
   "outputs": [],
   "source": [
    "df_var.reset_index(inplace=True)"
   ]
  },
  {
   "cell_type": "code",
   "execution_count": null,
   "metadata": {
    "pycharm": {
     "name": "#%%\n"
    }
   },
   "outputs": [],
   "source": [
    "df_var.head()"
   ]
  },
  {
   "cell_type": "markdown",
   "metadata": {
    "pycharm": {
     "name": "#%% md\n"
    }
   },
   "source": [
    "plot"
   ]
  },
  {
   "cell_type": "code",
   "execution_count": null,
   "metadata": {
    "pycharm": {
     "name": "#%%\n"
    }
   },
   "outputs": [],
   "source": [
    "seaborn.set(rc={'figure.figsize': (7, 8)})"
   ]
  },
  {
   "cell_type": "code",
   "execution_count": null,
   "metadata": {
    "pycharm": {
     "name": "#%%\n"
    }
   },
   "outputs": [],
   "source": [
    "# make percentage\n",
    "df_var['varianceExplained'] = df_var['varianceExplained'] * 100"
   ]
  },
  {
   "cell_type": "code",
   "execution_count": null,
   "metadata": {
    "pycharm": {
     "name": "#%%\n"
    }
   },
   "outputs": [],
   "source": [
    "y = 'varianceExplained'\n",
    "\n",
    "df_var_mean = df_var.groupby(['epoch', 'g'])[y].mean()#.unstack(0)\n",
    "\n",
    "cumulative = True\n",
    "if cumulative:  df_var_mean = df_var_mean.groupby(level=0).apply(\n",
    "    lambda x: pd.Series(x.to_numpy().cumsum(), index=list(range(1,11))).rename_axis('g'))"
   ]
  },
  {
   "cell_type": "code",
   "execution_count": null,
   "metadata": {
    "pycharm": {
     "name": "#%%\n"
    }
   },
   "outputs": [],
   "source": [
    "df_var_mean.head()"
   ]
  },
  {
   "cell_type": "code",
   "execution_count": null,
   "metadata": {
    "pycharm": {
     "name": "#%%\n"
    }
   },
   "outputs": [],
   "source": [
    "df_var_mean.groupby('g').mean()"
   ]
  },
  {
   "cell_type": "code",
   "execution_count": null,
   "metadata": {
    "pycharm": {
     "name": "#%%\n"
    }
   },
   "outputs": [],
   "source": [
    "ax = seaborn.lineplot(x='g', y=y, data=df_var_mean.reset_index(), style='epoch', markers=True)\n",
    "seaborn.move_legend(ax, \"lower right\", bbox_to_anchor=(1, 1))\n",
    "plt.savefig(\"cumsum.svg\", format=\"svg\")"
   ]
  }
 ],
 "metadata": {
  "kernelspec": {
   "display_name": "Python 3 (ipykernel)",
   "language": "python",
   "name": "python3"
  },
  "language_info": {
   "codemirror_mode": {
    "name": "ipython",
    "version": 3
   },
   "file_extension": ".py",
   "mimetype": "text/x-python",
   "name": "python",
   "nbconvert_exporter": "python",
   "pygments_lexer": "ipython3",
   "version": "3.9.13"
  }
 },
 "nbformat": 4,
 "nbformat_minor": 1
}